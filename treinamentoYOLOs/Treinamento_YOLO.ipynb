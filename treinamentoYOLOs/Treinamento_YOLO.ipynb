{
  "cells": [
    {
      "cell_type": "markdown",
      "metadata": {
        "id": "JIIsdU0Jb1i8"
      },
      "source": [
        "# INICIALIZAÇÃO"
      ]
    },
    {
      "cell_type": "markdown",
      "metadata": {
        "id": "Sm2W21a-Tj06"
      },
      "source": [
        "## Instalando as bibliotecas"
      ]
    },
    {
      "cell_type": "code",
      "execution_count": null,
      "metadata": {
        "id": "3UARE7pCTYLL"
      },
      "outputs": [],
      "source": [
        "# Instalar o Ultralytics\n",
        "!pip install ultralytics\n",
        "\n",
        "# Importar a biblioteca\n",
        "from ultralytics import YOLO"
      ]
    },
    {
      "cell_type": "markdown",
      "metadata": {
        "id": "LtvBl8SAVZEW"
      },
      "source": [
        "## Montando o drive"
      ]
    },
    {
      "cell_type": "code",
      "execution_count": null,
      "metadata": {
        "colab": {
          "base_uri": "https://localhost:8080/"
        },
        "id": "9L9CbEF8UH5G",
        "outputId": "bdfbabba-65d9-4469-a33f-298de629efd5"
      },
      "outputs": [
        {
          "output_type": "stream",
          "name": "stdout",
          "text": [
            "Mounted at /content/drive\n"
          ]
        }
      ],
      "source": [
        "from google.colab import drive\n",
        "drive.mount('/content/drive')"
      ]
    },
    {
      "cell_type": "markdown",
      "metadata": {
        "id": "QRNdfa9DVl8y"
      },
      "source": [
        "## Salvando os arquivo YAML's de treinamento + validação e teste"
      ]
    },
    {
      "cell_type": "code",
      "execution_count": null,
      "metadata": {
        "id": "gbjYSRHNVkK5"
      },
      "outputs": [],
      "source": [
        "import os\n",
        "\n",
        "# Definir o caminho da pasta onde o arquivo YAML será salvo\n",
        "pasta_destino = \"pasta/destino\"\n",
        "os.makedirs(pasta_destino, exist_ok=True)  # Criar a pasta se não existir\n",
        "\n",
        "# Caminhos do dataset (ajuste conforme necessário)\n",
        "train_path = \"pasta/imagens/treino/\"\n",
        "val_path   = \"pasta/imagens/val/\"\n",
        "test_path  = \"pasta/imagens/test/\"\n",
        "\n",
        "# Conteúdo do arquivo YAML\n",
        "yaml_content = f\"\"\"train: '{train_path}'\n",
        "val: '{val_path}'\n",
        "\n",
        "nc: 1  # Número de classes\n",
        "names: ['obj']\n",
        "\"\"\"\n",
        "\n",
        "# Caminho completo do arquivo YAML\n",
        "yaml_train_file = os.path.join(pasta_destino, \"dataset_train.yaml\")\n",
        "\n",
        "# Escrever o conteúdo no arquivo\n",
        "with open(yaml_train_file, \"w\") as file:\n",
        "    file.write(yaml_content)\n",
        "\n",
        "print(f\"Arquivo YAML de treino gerado em: {yaml_train_file}\")\n",
        "\n",
        "#-----------------------------------------------------------\n",
        "\n",
        "# Conteúdo do arquivo YAML\n",
        "yaml_content = f\"\"\"train: '{train_path}'\n",
        "val: '{test_path}'\n",
        "\n",
        "nc: 1  # Número de classes\n",
        "names: ['obj']\n",
        "\"\"\"\n",
        "\n",
        "# Caminho completo do arquivo YAML\n",
        "yaml_test_file = os.path.join(pasta_destino, \"dataset_test.yaml\")\n",
        "\n",
        "# Escrever o conteúdo no arquivo\n",
        "with open(yaml_test_file, \"w\") as file:\n",
        "    file.write(yaml_content)\n",
        "\n",
        "print(f\"Arquivo YAML de teste gerado em: {yaml_test_file}\")\n"
      ]
    },
    {
      "cell_type": "markdown",
      "metadata": {
        "id": "rwE9yAbjVtOE"
      },
      "source": [
        "# TREINAMENTO"
      ]
    },
    {
      "cell_type": "markdown",
      "metadata": {
        "id": "_yTD50qfHNAw"
      },
      "source": [
        "## Resetando a GPU"
      ]
    },
    {
      "cell_type": "code",
      "execution_count": null,
      "metadata": {
        "id": "ObJg1h-GHO-q"
      },
      "outputs": [],
      "source": [
        "import torch\n",
        "torch.cuda.empty_cache()\n"
      ]
    },
    {
      "cell_type": "markdown",
      "metadata": {
        "id": "XC98SoQbY2ax"
      },
      "source": [
        "## Descobrindo o número de núcleos disponíveis"
      ]
    },
    {
      "cell_type": "code",
      "execution_count": null,
      "metadata": {
        "colab": {
          "base_uri": "https://localhost:8080/"
        },
        "id": "zk-lFPH2ZDNF",
        "outputId": "84c58626-ce74-4777-9d96-91eef08b4219"
      },
      "outputs": [
        {
          "output_type": "stream",
          "name": "stdout",
          "text": [
            "Número de núcleos disponíveis: 12\n"
          ]
        }
      ],
      "source": [
        "import multiprocessing\n",
        "\n",
        "workers_max = multiprocessing.cpu_count()\n",
        "print(f\"Número de núcleos disponíveis: {workers_max}\")"
      ]
    },
    {
      "cell_type": "markdown",
      "metadata": {
        "id": "ez3-3OfPbi0_"
      },
      "source": [
        "## Treinamento yolo"
      ]
    },
    {
      "cell_type": "code",
      "execution_count": null,
      "metadata": {
        "id": "lbzJpCKynKgB"
      },
      "outputs": [],
      "source": [
        "# Carregar o modelo YOLOv11x\n",
        "model = YOLO('yolo11x.pt')\n",
        "\n",
        "results = model.train(\n",
        "    data=    'pasta/do/dataset_train.yaml',\n",
        "    project= 'pasta/onde/serao/salvos/resultados',\n",
        "    name=    'nomedoprojeto',\n",
        "    imgsz=320,\n",
        "    workers=workers_max - 2,\n",
        "\n",
        "    iou=0.7,\n",
        "    conf=0.01,\n",
        "    patience=50,   # Reduzir a paciência\n",
        "    epochs=150,    # Reduzir o número de épocas\n",
        "    batch=64,      # Aumentar o batch size se possível\n",
        "    max_det=8,\n",
        "    seed = 5,\n",
        "\n",
        "    single_cls\t=\tFalse,\t#Trata todas as classes em conjuntos de dados multi-classe como uma única classe durante o treino.\n",
        "    plots = True, #Imprime os resultados\n",
        "\n",
        "    flipud = 0.5,\n",
        "    mosaic=0,    # Reativar mosaic augmentation\n",
        "    hsv_h=0.015,\n",
        "    hsv_s=0.7,\n",
        "    hsv_v=0.1,\n",
        "    device='cuda', #Treinamento com uso de GPU CUDA\n",
        "\n",
        "    nms=True,\n",
        "    save_period=True,\n",
        "    verbose=True,\n",
        "    scale=0,#0.2,       # Reativar escala com valor moderado\n",
        "    shear=0,#0.1,       # Reativar cisalhamento com valor moderado\n",
        "    copy_paste=0,#0.1,  # Reativar copy-paste com valor moderado\n",
        "\n",
        "    weight_decay=0.0001, # Reativar weight decay\n",
        ")"
      ]
    },
    {
      "cell_type": "markdown",
      "metadata": {
        "id": "rlPGrp52bmxv"
      },
      "source": [
        "# MÉTRICAS"
      ]
    },
    {
      "cell_type": "markdown",
      "metadata": {
        "id": "gkXeTIArV3YH"
      },
      "source": [
        "## Tirando as métricas da base de validação"
      ]
    },
    {
      "cell_type": "code",
      "execution_count": null,
      "metadata": {
        "id": "PXkKbfR2V97q"
      },
      "outputs": [],
      "source": [
        "# Caminho para o modelo treinado\n",
        "model_path = r'pasta/weights/seumodelo.pt'\n",
        "\n",
        "# Carregar o modelo\n",
        "model = YOLO(model_path)\n",
        "\n",
        "# Avaliar o modelo usando o arquivo data.yaml\n",
        "metrics = model.val(data=yaml_train_file, imgsz=320)"
      ]
    },
    {
      "cell_type": "markdown",
      "metadata": {
        "id": "MYdEww34V6wA"
      },
      "source": [
        "## Tirando as métricas da base de teste"
      ]
    },
    {
      "cell_type": "code",
      "execution_count": null,
      "metadata": {
        "id": "gg8pl73MV9cK"
      },
      "outputs": [],
      "source": [
        "# Caminho para o modelo treinado\n",
        "model_path = r'pasta/weights/seumodelo.pt'\n",
        "\n",
        "yaml_test_file = r'pasta/dataset_test.yaml'\n",
        "# Carregar o modelo\n",
        "model = YOLO(model_path)\n",
        "\n",
        "# Avaliar o modelo usando o arquivo data.yaml\n",
        "metrics = model.val(data=yaml_test_file, imgsz=320)#, conf = 0.25, iou=0.5)"
      ]
    }
  ],
  "metadata": {
    "accelerator": "GPU",
    "colab": {
      "collapsed_sections": [
        "LtvBl8SAVZEW",
        "IO4WUXEWIVt8",
        "gkXeTIArV3YH"
      ],
      "gpuType": "L4",
      "machine_shape": "hm",
      "provenance": []
    },
    "kernelspec": {
      "display_name": "Python 3",
      "name": "python3"
    },
    "language_info": {
      "name": "python"
    }
  },
  "nbformat": 4,
  "nbformat_minor": 0
}