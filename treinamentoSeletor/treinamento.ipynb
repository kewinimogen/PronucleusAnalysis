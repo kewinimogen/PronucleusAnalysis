import os
import json
import pandas as pd
import numpy as np
from sklearn.model_selection import train_test_split
from sklearn.metrics import mean_squared_error, r2_score
import tensorflow as tf
from tensorflow.keras.models import Sequential
from tensorflow.keras.layers import Dense
from tensorflow.keras.callbacks import EarlyStopping

# Defina os caminhos para salvar o modelo e as métricas e ler o dataset
model_dir        = "pasta/para/seu/modelo"
data = pd.read_csv("pasta/para/csv/com/dados/de/entrada")

model_save_path = os.path.join(model_dir, "modelo_final.keras")  # Salva no formato Keras
metrics_save_path = os.path.join(model_dir, "metricas_de_treino.json")

# Cria a pasta se não existir
os.makedirs(model_dir, exist_ok=True)

# Gera a lista de colunas de entrada (732 colunas: X_1_N1, X_2_N1, ..., X_4_N183)
features = [f"{x}_N{n}" for n in range(1, 184) for x in ['X_1', 'X_2', 'X_3', 'X_4']]
target_cols = ['tPNa', 'tPNf']

# Separa as entradas (X) e saídas (y)
X = data[features].values
y = data[target_cols].values

# Divide os dados em treino (80%) e validação (20%)
X_train, X_val, y_train, y_val = train_test_split(X, y, test_size=0.2, random_state=42)

# Criação do modelo de rede neural para regressão
model = Sequential([
    Dense(256, activation='relu', input_shape=(X_train.shape[1],)),
    Dense(128, activation='relu'),
    Dense(64, activation='relu'),
    Dense(2, activation='sigmoid')  # Utiliza sigmoid para limitar a saída entre 0 e 1
])

# Compila o modelo
model.compile(optimizer='adam', loss='mse', metrics=['mae'])

# Configuração do early stopping para evitar overfitting
es = EarlyStopping(monitor='val_loss', patience=50, restore_best_weights=True)

# Treinamento do modelo
history = model.fit(X_train, y_train,
                    validation_data=(X_val, y_val),
                    epochs=1000,
                    batch_size=32,
                    callbacks=[es],
                    verbose=1)

# Avaliação do modelo no conjunto de validação
loss, mae = model.evaluate(X_val, y_val, verbose=0)
print("Validação - Loss (MSE): {:.4f}, MAE: {:.4f}".format(loss, mae))

# Realiza previsões no conjunto de validação
predictions = model.predict(X_val)

# Calcula métricas adicionais
mse = mean_squared_error(y_val, predictions)
rmse = np.sqrt(mse)
r2 = r2_score(y_val, predictions)

print("Métricas adicionais:")
print("MSE: {:.4f}".format(mse))
print("RMSE: {:.4f}".format(rmse))
print("R²: {:.4f}".format(r2))

# Salva o modelo final no formato Keras na pasta especificada
model.save(model_save_path)
print(f"\nModelo salvo em: {model_save_path}")

# Salva todas as métricas em um arquivo JSON
metrics = {
    "loss (MSE - via model.evaluate)": loss,
    "mae": mae,
    "mse": mse,
    "rmse": rmse,
    "r2": r2
}
with open(metrics_save_path, 'w') as f:
    json.dump(metrics, f, indent=4)
print(f"Métricas salvas em: {metrics_save_path}")

# Exibe alguns exemplos de previsões comparadas aos valores reais
print("\nAlguns exemplos de previsões comparadas aos valores reais:")
for i in range(5):
    print(f"Exemplo {i+1}: Valor real: {y_val[i]}, Previsão: {predictions[i]}")
